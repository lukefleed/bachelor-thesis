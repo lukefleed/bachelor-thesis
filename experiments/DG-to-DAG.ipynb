{
 "cells": [
  {
   "cell_type": "code",
   "execution_count": 129,
   "metadata": {},
   "outputs": [],
   "source": [
    "import networkx as nx\n",
    "import random\n",
    "import matplotlib.pyplot as plt"
   ]
  },
  {
   "cell_type": "code",
   "execution_count": 130,
   "metadata": {},
   "outputs": [],
   "source": [
    "def convert_dg_to_dag(input_list: list) -> nx.DiGraph:\n",
    "    \"\"\"\n",
    "    Converts a directed graph (DG) to a directed acyclic graph (DAG).\n",
    "\n",
    "    Parameters:\n",
    "    input_list (list): List of lists of strings (a degenerate string)\n",
    "\n",
    "    Example of input_list:\n",
    "    [['C', 'T', 'A', 'G'], ['A', 'T', 'T'], ['T', 'T', 'T'], ['A', 'G', 'G', 'G', 'G'], ['A', 'G'], []]\n",
    "\n",
    "    Returns:\n",
    "    nx.DiGraph: The converted DAG.\n",
    "    \"\"\"\n",
    "\n",
    "    graph = nx.DiGraph()\n",
    "    graph.add_node(0, label=\"$\")\n",
    "    previous_dummy_node = 0\n",
    "    node_id = 1\n",
    "\n",
    "    for sublist in input_list:\n",
    "        current_level = []\n",
    "        if not sublist:  # if the sublist is empty, consider it a dummy node.\n",
    "            continue\n",
    "\n",
    "        for item in sublist: # iterate over the characters in the string in the sublist\n",
    "            graph.add_node(node_id, label=item)\n",
    "            graph.add_edge(previous_dummy_node, node_id)\n",
    "            current_level.append(node_id)\n",
    "            node_id += 1\n",
    "\n",
    "        # create a new dummy node\n",
    "        previous_dummy_node = node_id\n",
    "        graph.add_node(node_id, label=\"$\")\n",
    "        node_id += 1\n",
    "\n",
    "        # connect the current level to the new dummy node\n",
    "        for node in current_level:\n",
    "            graph.add_edge(node, previous_dummy_node)\n",
    "\n",
    "    return graph\n",
    "\n",
    "def draw_graph(G):\n",
    "    pos = nx.drawing.nx_agraph.graphviz_layout(G, prog=\"dot\", root=0, args=\"-Grankdir=LR\")\n",
    "    node_labels = nx.get_node_attributes(G, \"label\")\n",
    "\n",
    "    # Create a color map\n",
    "    color_map = []\n",
    "    for node in G:\n",
    "        if node_labels[node] == \"$\":\n",
    "            color_map.append('pink')\n",
    "        else:\n",
    "            color_map.append('lightblue')\n",
    "\n",
    "    nx.draw(G, pos, node_color=color_map, with_labels=True, labels=node_labels)\n",
    "\n",
    "def generate_degenerate_strings(max_length, num_subsets):\n",
    "    alphabet = ['A', 'C', 'G', 'T']\n",
    "    degenerate_strings = []\n",
    "\n",
    "    for _ in range(num_subsets):\n",
    "        subset_length = random.randint(0, max_length)  # Length of subset can be 0 (empty set)\n",
    "        subset = []\n",
    "        for _ in range(subset_length):\n",
    "            subset.append(random.choice(alphabet))\n",
    "        degenerate_strings.append(subset)\n",
    "\n",
    "    return degenerate_strings\n"
   ]
  },
  {
   "cell_type": "code",
   "execution_count": 133,
   "metadata": {},
   "outputs": [
    {
     "name": "stdout",
     "output_type": "stream",
     "text": [
      "[['C', 'C', 'T', 'C', 'G'], ['C', 'C', 'C'], ['A', 'G'], ['A', 'T'], ['A']]\n"
     ]
    }
   ],
   "source": [
    "X = generate_degenerate_strings(5, 5)\n",
    "print(X)"
   ]
  },
  {
   "cell_type": "code",
   "execution_count": 134,
   "metadata": {},
   "outputs": [
    {
     "data": {
      "image/png": "[encoded data removed]",
      "text/plain": [
       "<Figure size 432x288 with 1 Axes>"
      ]
     },
     "metadata": {},
     "output_type": "display_data"
    }
   ],
   "source": [
    "G = convert_dg_to_dag(X)\n",
    "draw_graph(G)"
   ]
  }
 ],
 "metadata": {
  "kernelspec": {
   "display_name": "Python 3",
   "language": "python",
   "name": "python3"
  },
  "language_info": {
   "codemirror_mode": {
    "name": "ipython",
    "version": 3
   },
   "file_extension": ".py",
   "mimetype": "text/x-python",
   "name": "python",
   "nbconvert_exporter": "python",
   "pygments_lexer": "ipython3",
   "version": "3.10.12"
  }
 },
 "nbformat": 4,
 "nbformat_minor": 2
}
