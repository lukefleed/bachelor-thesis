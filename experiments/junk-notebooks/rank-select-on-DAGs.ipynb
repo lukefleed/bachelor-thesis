{
 "cells": [
  {
   "cell_type": "code",
   "execution_count": 15,
   "metadata": {},
   "outputs": [],
   "source": [
    "import random\n",
    "import matplotlib.pyplot as plt\n",
    "from collections import Counter\n",
    "import networkx as nx"
   ]
  },
  {
   "cell_type": "code",
   "execution_count": 9,
   "metadata": {},
   "outputs": [],
   "source": [
    "# Alphabet\n",
    "Sigma = ['A', 'C', 'G', 'T']\n",
    "\n",
    "# generate n strings with random length between min_len and max_len with characters from Sigma\n",
    "n = 10\n",
    "min_len = 1\n",
    "max_len = 5\n"
   ]
  },
  {
   "cell_type": "code",
   "execution_count": 10,
   "metadata": {},
   "outputs": [
    {
     "name": "stdout",
     "output_type": "stream",
     "text": [
      "['AGTAA', 'GGACT', 'ATGGC', 'TGCCA', 'C', 'A', 'GGG', 'GCAT', 'ACAG', 'TCC']\n"
     ]
    }
   ],
   "source": [
    "strings = []\n",
    "\n",
    "for i in range(n):\n",
    "    length = random.randint(min_len, max_len)\n",
    "    string = ''.join(random.choices(Sigma, k=length))\n",
    "    strings.append(string)\n",
    "\n",
    "print(strings)"
   ]
  },
  {
   "cell_type": "code",
   "execution_count": 13,
   "metadata": {},
   "outputs": [
    {
     "name": "stdout",
     "output_type": "stream",
     "text": [
      "[Counter({'A': 3, 'G': 1, 'T': 1}), Counter({'G': 2, 'A': 1, 'C': 1, 'T': 1}), Counter({'G': 2, 'A': 1, 'T': 1, 'C': 1}), Counter({'C': 2, 'T': 1, 'G': 1, 'A': 1}), Counter({'C': 1}), Counter({'A': 1}), Counter({'G': 3}), Counter({'G': 1, 'C': 1, 'A': 1, 'T': 1}), Counter({'A': 2, 'C': 1, 'G': 1}), Counter({'C': 2, 'T': 1})]\n"
     ]
    }
   ],
   "source": [
    "# create a counter for each string\n",
    "counters = [Counter(string) for string in strings]"
   ]
  },
  {
   "cell_type": "code",
   "execution_count": 28,
   "metadata": {},
   "outputs": [
    {
     "name": "stdout",
     "output_type": "stream",
     "text": [
      "[(0, {'counter': Counter({'A': 3, 'G': 1, 'T': 1})}), (1, {'counter': Counter({'G': 2, 'A': 1, 'C': 1, 'T': 1})}), (2, {'counter': Counter({'G': 2, 'A': 1, 'T': 1, 'C': 1})}), (3, {'counter': Counter({'C': 2, 'T': 1, 'G': 1, 'A': 1})}), (4, {'counter': Counter({'C': 1})}), (5, {'counter': Counter({'A': 1})}), (6, {'counter': Counter({'G': 3})}), (7, {'counter': Counter({'G': 1, 'C': 1, 'A': 1, 'T': 1})}), (8, {'counter': Counter({'A': 2, 'C': 1, 'G': 1})}), (9, {'counter': Counter({'C': 2, 'T': 1})})]\n"
     ]
    }
   ],
   "source": [
    "# generate a random DAG with n nodes\n",
    "G = nx.gnr_graph(n, 0.5, seed=None)\n",
    "\n",
    "# associate to each node a counter\n",
    "for i, counter in enumerate(counters):\n",
    "    G.nodes[i]['counter'] = counter\n",
    "\n",
    "print(G.nodes.data())"
   ]
  },
  {
   "cell_type": "code",
   "execution_count": 29,
   "metadata": {},
   "outputs": [
    {
     "data": {
      "image/png": "[encoded data removed]",
      "text/plain": [
       "<Figure size 432x288 with 1 Axes>"
      ]
     },
     "metadata": {},
     "output_type": "display_data"
    }
   ],
   "source": [
    "# draw the graph\n",
    "nx.draw(G, with_labels=True)"
   ]
  },
  {
   "cell_type": "code",
   "execution_count": 31,
   "metadata": {},
   "outputs": [
    {
     "name": "stdout",
     "output_type": "stream",
     "text": [
      "[(0, {'counter': Counter({'A': 3, 'G': 1, 'T': 1}), 'topological_order': 9}), (1, {'counter': Counter({'G': 2, 'A': 1, 'C': 1, 'T': 1}), 'topological_order': 0}), (2, {'counter': Counter({'G': 2, 'A': 1, 'T': 1, 'C': 1}), 'topological_order': 8}), (3, {'counter': Counter({'C': 2, 'T': 1, 'G': 1, 'A': 1}), 'topological_order': 7}), (4, {'counter': Counter({'C': 1}), 'topological_order': 6}), (5, {'counter': Counter({'A': 1}), 'topological_order': 1}), (6, {'counter': Counter({'G': 3}), 'topological_order': 2}), (7, {'counter': Counter({'G': 1, 'C': 1, 'A': 1, 'T': 1}), 'topological_order': 3}), (8, {'counter': Counter({'A': 2, 'C': 1, 'G': 1}), 'topological_order': 4}), (9, {'counter': Counter({'C': 2, 'T': 1}), 'topological_order': 5})]\n"
     ]
    }
   ],
   "source": [
    "# do a topological sort and associate to each node the id of the node in the topological order\n",
    "topological_order = list(nx.topological_sort(G))\n",
    "for i, node in enumerate(topological_order):\n",
    "    G.nodes[node]['topological_order'] = i\n",
    "\n",
    "print(G.nodes.data())"
   ]
  },
  {
   "cell_type": "code",
   "execution_count": 32,
   "metadata": {},
   "outputs": [],
   "source": [
    "# create a table with two cols, the this is (min, node_id) and the second is (max, node_id)\n",
    "\n",
    "import pandas as pd\n",
    "\n",
    "table = pd.DataFrame(columns=['min', 'max'])\n"
   ]
  }
 ],
 "metadata": {
  "kernelspec": {
   "display_name": "Python 3",
   "language": "python",
   "name": "python3"
  },
  "language_info": {
   "codemirror_mode": {
    "name": "ipython",
    "version": 3
   },
   "file_extension": ".py",
   "mimetype": "text/x-python",
   "name": "python",
   "nbconvert_exporter": "python",
   "pygments_lexer": "ipython3",
   "version": "3.10.12"
  }
 },
 "nbformat": 4,
 "nbformat_minor": 2
}
