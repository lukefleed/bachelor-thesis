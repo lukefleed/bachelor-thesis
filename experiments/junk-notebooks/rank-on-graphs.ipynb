{
 "cells": [
  {
   "cell_type": "code",
   "execution_count": 15,
   "metadata": {},
   "outputs": [],
   "source": [
    "import networkx as nx\n",
    "import random"
   ]
  },
  {
   "cell_type": "code",
   "execution_count": 16,
   "metadata": {},
   "outputs": [],
   "source": [
    "min_w = 1\n",
    "max_w = 10\n",
    "n = 300\n",
    "\n",
    "G = nx.erdos_renyi_graph(n, 0.15)\n",
    "\n",
    "for node in G.nodes:\n",
    "    G.nodes[node]['weight'] = random.randint(min_w, max_w)"
   ]
  },
  {
   "cell_type": "code",
   "execution_count": null,
   "metadata": {},
   "outputs": [],
   "source": [
    "for node in G.nodes:\n",
    "    G.nodes[node]['out'] = None"
   ]
  },
  {
   "cell_type": "code",
   "execution_count": 17,
   "metadata": {},
   "outputs": [],
   "source": [
    "def remove_self_loops(G):\n",
    "    remove_self_loops = list(nx.selfloop_edges(G))\n",
    "    G.remove_edges_from(remove_self_loops)\n",
    "    print(f\"Removed {len(remove_self_loops)} self loops\")\n",
    "\n",
    "def associate_shortest_path_list(G, start_node):\n",
    "\n",
    "    def optimal_father(G,node):\n",
    "        # this should return the end node of the shortest path\n",
    "        pass\n",
    "\n",
    "    end_node = optimal_father(G, start_node)\n",
    "\n",
    "    for node in G.nodes:\n",
    "        G.nodes[node]['shortest_path_list'] = nx.shortest_path(G, source=node, target=end_node)\n",
    "\n",
    "def compute_set_out(G, node):\n",
    "    pass\n",
    "\n",
    "def process_graph(G):\n",
    "    remove_self_loops(G)\n",
    "    for node in G.nodes:\n",
    "        associate_shortest_path_list(G, node)\n",
    "        compute_set_out(G, node)\n"
   ]
  },
  {
   "cell_type": "markdown",
   "metadata": {},
   "source": [
    "## Cose da capire\n",
    "\n",
    "* Non posso più fare come prima il topological sort visto che non è un DAG, quindi **come calcolo il set out?** Prima era la set union dei predecessori + il valore del nodo in questione, ma non ho più un ordine che mi assicuri che tutti i predecessori siano precomputati\n",
    "* Prima sceglievo come nodi da tenere espliciti quelli nell'ultimo livello delle topological generations, ma ora non posso più perché posso farlo solo su un DAG una cosa del genere. Quindi **come scelgo quali nodi tenere espliciti?**  "
   ]
  }
 ],
 "metadata": {
  "kernelspec": {
   "display_name": "Python 3",
   "language": "python",
   "name": "python3"
  },
  "language_info": {
   "codemirror_mode": {
    "name": "ipython",
    "version": 3
   },
   "file_extension": ".py",
   "mimetype": "text/x-python",
   "name": "python",
   "nbconvert_exporter": "python",
   "pygments_lexer": "ipython3",
   "version": "3.10.12"
  }
 },
 "nbformat": 4,
 "nbformat_minor": 2
}
