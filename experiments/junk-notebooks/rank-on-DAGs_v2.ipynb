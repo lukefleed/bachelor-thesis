{
 "cells": [
  {
   "cell_type": "code",
   "execution_count": 46,
   "metadata": {},
   "outputs": [],
   "source": [
    "import random\n",
    "import networkx as nx\n",
    "import matplotlib.pyplot as plt"
   ]
  },
  {
   "cell_type": "code",
   "execution_count": 47,
   "metadata": {},
   "outputs": [],
   "source": [
    "MIN_PER_RANK = 1  # Nodes/Rank: How 'fat' the DAG should be.\n",
    "MAX_PER_RANK = 5\n",
    "MIN_RANKS = 3     # Ranks: How 'tall' the DAG should be.\n",
    "MAX_RANKS = 5\n",
    "PERCENT = 30      # Chance of having an Edge.\n",
    "\n",
    "def generate_dag(min_w, max_w, total_nodes): # min_w, max_w: node values range, total_nodes: total number of nodes\n",
    "    random.seed()  # Initialize the random number generator\n",
    "\n",
    "    G = nx.DiGraph()\n",
    "\n",
    "    current_nodes = 0 # Total number of nodes in the graph\n",
    "    ranks = [] # Number of nodes in each rank\n",
    "\n",
    "    # Generate ranks with nodes until the total number of nodes is reached\n",
    "    while current_nodes < total_nodes:\n",
    "        new_nodes = min(MAX_PER_RANK, total_nodes - current_nodes) # Number of nodes in the new rank\n",
    "        ranks.append(new_nodes) # Add the new rank to the list of ranks\n",
    "        current_nodes += new_nodes # Update the total number of nodes\n",
    "\n",
    "    nodes = 1 # Total number of nodes in the graph starts from 1\n",
    "\n",
    "    for rank in ranks:\n",
    "        for k in range(rank):\n",
    "            # Assign a random weight to each new node\n",
    "            node_weight = random.randint(min_w, max_w)\n",
    "            G.add_node(nodes + k, weight=node_weight)\n",
    "\n",
    "        # Edges from old nodes ('nodes') to new ones ('rank').\n",
    "        for j in range(nodes - 1): # Adjusted to start from 0\n",
    "            for k in range(rank):\n",
    "                if random.randint(0, 99) < PERCENT: # Randomly decide if there is an edge between the nodes\n",
    "                    G.add_edge(j + 1, k + nodes) # Adjusted to start from 1\n",
    "\n",
    "        nodes += rank  # Accumulate into old node set.\n",
    "\n",
    "    # remove isolated nodes\n",
    "    G.remove_nodes_from(list(nx.isolates(G)))\n",
    "\n",
    "    root_id = 0 # Root node is 0\n",
    "\n",
    "    roots = [node for node in G.nodes() if G.in_degree(node) == 0] # Find the root nodes\n",
    "    for _ in roots:\n",
    "        G.add_edge(root_id, _) # Add an edge from the root node to each root node\n",
    "\n",
    "    # add an attribute 'out' to the root node as a set containing 0\n",
    "    G.nodes[root_id]['out'] = set()\n",
    "    G.nodes[root_id]['out'].add(0)\n",
    "    G.nodes[root_id]['weight'] = 0\n",
    "\n",
    "    return G"
   ]
  },
  {
   "cell_type": "code",
   "execution_count": 48,
   "metadata": {},
   "outputs": [],
   "source": [
    "def compute_node_out(G, node_id):\n",
    "    node_weight = G.nodes[node_id]['weight']\n",
    "    predecessors = list(G.predecessors(node_id))\n",
    "\n",
    "    if 'out' in G.nodes[node_id] and G.nodes[node_id]['out'] and predecessors:\n",
    "        raise ValueError(f\"Node {node_id} already has a non-empty 'out': {G.nodes[node_id]['out']} and it's not the root\")\n",
    "\n",
    "    node_out = set()\n",
    "    for predecessor in predecessors:\n",
    "        predecessor_out = G.nodes[predecessor]['out']\n",
    "        node_out = node_out.union(predecessor_out)\n",
    "\n",
    "    node_out = set([x + node_weight for x in node_out])\n",
    "    return node_out\n",
    "\n",
    "def process_graph(G):\n",
    "    for node in list(nx.topological_sort(G))[1::]:\n",
    "        G.nodes[node]['out'] = compute_node_out(G, node)\n",
    "\n",
    "# to be fixed\n",
    "def remove_half(G):\n",
    "    top_gen = list(nx.topological_generations(G))\n",
    "    for gen in top_gen[2::2]:\n",
    "        for node in gen:\n",
    "            G.nodes[node]['out'] = set()\n",
    "\n",
    "def rank(G, node_id):\n",
    "    rank =[]\n",
    "    for element in G.nodes[node_id]['out']:\n",
    "        rank.append((element - G.nodes[node_id]['weight'] + 1, element))\n",
    "\n",
    "    rank = sorted(rank, key=lambda x: x[0])\n",
    "\n",
    "    return rank"
   ]
  },
  {
   "cell_type": "code",
   "execution_count": 49,
   "metadata": {},
   "outputs": [
    {
     "name": "stdout",
     "output_type": "stream",
     "text": [
      "Node 1 weight: 6 \tout: [6]\n",
      "Node 2 weight: 10 \tout: [10]\n",
      "Node 3 weight: 8 \tout: [8]\n",
      "Node 4 weight: 2 \tout: [2]\n",
      "Node 5 weight: 4 \tout: [4]\n",
      "Node 6 weight: 4 \tout: [8, 10]\n",
      "Node 7 weight: 2 \tout: [2]\n",
      "Node 8 weight: 9 \tout: [15]\n",
      "Node 9 weight: 3 \tout: [7, 9, 11]\n",
      "Node 10 weight: 6 \tout: [10, 14, 16]\n",
      "Node 11 weight: 4 \tout: [6, 10]\n",
      "Node 12 weight: 10 \tout: [12, 14, 16, 18]\n",
      "Node 13 weight: 10 \tout: [18, 20]\n",
      "Node 14 weight: 3 \tout: [5, 10, 12, 13, 14, 17, 18, 19]\n",
      "Node 15 weight: 9 \tout: [11, 15, 16, 18, 20]\n",
      "Node 16 weight: 1 \tout: [3, 7, 8, 9, 10, 11, 12, 13, 15, 16, 17, 19, 21]\n",
      "Node 17 weight: 5 \tout: [7, 12, 14, 15, 16, 19, 21, 23, 25]\n",
      "Node 18 weight: 6 \tout: [10, 11, 12, 14, 16, 18, 19, 20, 21, 22, 23, 24, 25, 26]\n",
      "Node 19 weight: 2 \tout: [4, 6, 8]\n",
      "Node 20 weight: 3 \tout: [5, 9, 13, 15, 17, 19, 21]\n",
      "Node 0 weight: 0 \tout: [0]\n"
     ]
    }
   ],
   "source": [
    "G = generate_dag(1, 10, 20)\n",
    "process_graph(G)\n",
    "\n",
    "for node in G.nodes():\n",
    "    # convert the set of out values to a list and print it sorted. Print also the weight of the node. Use \\t for indentation\n",
    "    print(f\"Node {node} weight: {G.nodes[node]['weight']} \\tout: {sorted(list(G.nodes[node]['out']))}\")"
   ]
  },
  {
   "cell_type": "code",
   "execution_count": 50,
   "metadata": {},
   "outputs": [
    {
     "name": "stdout",
     "output_type": "stream",
     "text": [
      "[(3, 4), (5, 6), (7, 8)]\n"
     ]
    }
   ],
   "source": [
    "rank_19 = rank(G, 19)\n",
    "\n",
    "print(rank_19)"
   ]
  }
 ],
 "metadata": {
  "kernelspec": {
   "display_name": "Python 3",
   "language": "python",
   "name": "python3"
  },
  "language_info": {
   "codemirror_mode": {
    "name": "ipython",
    "version": 3
   },
   "file_extension": ".py",
   "mimetype": "text/x-python",
   "name": "python",
   "nbconvert_exporter": "python",
   "pygments_lexer": "ipython3",
   "version": "3.10.12"
  }
 },
 "nbformat": 4,
 "nbformat_minor": 2
}
