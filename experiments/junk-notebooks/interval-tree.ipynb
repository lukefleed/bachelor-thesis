{
 "cells": [
  {
   "cell_type": "code",
   "execution_count": 33,
   "metadata": {},
   "outputs": [],
   "source": [
    "class IntervalTree:\n",
    "    def __init__(self, intervals):\n",
    "        self.n = len(intervals)\n",
    "        self.tree = [None] * (2 * self.n)  # Array di dimensione 2n\n",
    "        self.euler_tour_index = 0\n",
    "        self._build(intervals)\n",
    "\n",
    "    def _build(self, intervals):\n",
    "        for a, b in intervals:\n",
    "            self._insert(1, 0, self.n - 1, a, b)\n",
    "\n",
    "    def _insert(self, node, start, end, a, b):\n",
    "        if a > end or b < start:\n",
    "            return\n",
    "\n",
    "        if start == end:\n",
    "            self.tree[node] = (a, b)\n",
    "            return\n",
    "\n",
    "        mid = (start + end) // 2\n",
    "        self._insert(node * 2, start, mid, a, b)\n",
    "        self._insert(node * 2 + 1, mid + 1, end, a, b)\n",
    "\n",
    "        # Correzione nell'aggiornamento dell'intervallo del nodo corrente\n",
    "        left_interval = self.tree[node * 2] if node * 2 < len(self.tree) else None  # Controlla se il figlio sinistro esiste\n",
    "        right_interval = self.tree[node * 2 + 1] if node * 2 + 1 < len(self.tree) else None  # Controlla se il figlio destro esiste\n",
    "\n",
    "        if left_interval and right_interval:\n",
    "            self.tree[node] = (min(left_interval[0], right_interval[0]), max(left_interval[1], right_interval[1]))\n",
    "        elif left_interval:\n",
    "            self.tree[node] = left_interval\n",
    "        elif right_interval:\n",
    "            self.tree[node] = right_interval\n",
    "\n",
    "\n",
    "    def query(self, value):\n",
    "        result = []\n",
    "        self._query_recursive(1, 0, self.n - 1, value, result)\n",
    "        return result\n",
    "\n",
    "    def _query_recursive(self, node, start, end, value, result):\n",
    "        if start > end:\n",
    "            return\n",
    "\n",
    "        interval = self.tree[node]\n",
    "        if interval and interval[0] <= value <= interval[1]:\n",
    "            result.append(interval)\n",
    "\n",
    "        mid = (start + end) // 2\n",
    "        if value <= mid:\n",
    "            self._query_recursive(node * 2, start, mid, value, result)\n",
    "        if value > mid:\n",
    "            self._query_recursive(node * 2 + 1, mid + 1, end, value, result)\n"
   ]
  },
  {
   "cell_type": "code",
   "execution_count": 35,
   "metadata": {},
   "outputs": [
    {
     "name": "stdout",
     "output_type": "stream",
     "text": [
      "[]\n"
     ]
    }
   ],
   "source": [
    "intervals = [(1, 5), (3, 7), (8, 12), (10, 15)]\n",
    "tree = IntervalTree(intervals)\n",
    "result = tree.query(9)\n",
    "print(result)"
   ]
  }
 ],
 "metadata": {
  "kernelspec": {
   "display_name": "Python 3",
   "language": "python",
   "name": "python3"
  },
  "language_info": {
   "codemirror_mode": {
    "name": "ipython",
    "version": 3
   },
   "file_extension": ".py",
   "mimetype": "text/x-python",
   "name": "python",
   "nbconvert_exporter": "python",
   "pygments_lexer": "ipython3",
   "version": "3.10.12"
  }
 },
 "nbformat": 4,
 "nbformat_minor": 2
}
